{
 "cells": [
  {
   "cell_type": "markdown",
   "metadata": {},
   "source": [
    "Create function in order to open the other years file.\n",
    "No need for constant input."
   ]
  },
  {
   "cell_type": "markdown",
   "metadata": {},
   "source": [
    "also .split('\\t')"
   ]
  },
  {
   "cell_type": "markdown",
   "metadata": {},
   "source": [
    "Need to clean the text as well. (import re)"
   ]
  },
  {
   "cell_type": "code",
   "execution_count": 1,
   "metadata": {},
   "outputs": [
    {
     "ename": "FileNotFoundError",
     "evalue": "[Errno 2] No such file or directory: 'num.txt'",
     "output_type": "error",
     "traceback": [
      "\u001b[0;31m---------------------------------------------------------------------------\u001b[0m",
      "\u001b[0;31mFileNotFoundError\u001b[0m                         Traceback (most recent call last)",
      "\u001b[1;32m/makistats/finance-sec/file.ipynb Cell 4\u001b[0m in \u001b[0;36m<module>\u001b[0;34m\u001b[0m\n\u001b[1;32m      <a href='vscode-notebook-cell://github/makistats/finance-sec/file.ipynb#W3sdnNjb2RlLXZmcw%3D%3D?line=0'>1</a>\u001b[0m \u001b[39m#def read_file_into_list(file_name):\u001b[39;00m\n\u001b[0;32m----> <a href='vscode-notebook-cell://github/makistats/finance-sec/file.ipynb#W3sdnNjb2RlLXZmcw%3D%3D?line=2'>3</a>\u001b[0m num \u001b[39m=\u001b[39m \u001b[39mopen\u001b[39;49m(\u001b[39m'\u001b[39;49m\u001b[39mnum.txt\u001b[39;49m\u001b[39m'\u001b[39;49m)\n\u001b[1;32m      <a href='vscode-notebook-cell://github/makistats/finance-sec/file.ipynb#W3sdnNjb2RlLXZmcw%3D%3D?line=3'>4</a>\u001b[0m num \u001b[39m=\u001b[39m num\u001b[39m.\u001b[39mreadlines()\n\u001b[1;32m      <a href='vscode-notebook-cell://github/makistats/finance-sec/file.ipynb#W3sdnNjb2RlLXZmcw%3D%3D?line=5'>6</a>\u001b[0m pre \u001b[39m=\u001b[39m \u001b[39mopen\u001b[39m(\u001b[39m'\u001b[39m\u001b[39mpre.txt\u001b[39m\u001b[39m'\u001b[39m)\n",
      "\u001b[0;31mFileNotFoundError\u001b[0m: [Errno 2] No such file or directory: 'num.txt'"
     ]
    }
   ],
   "source": [
    "#def read_file_into_list(file_name):\n",
    "\n",
    "num = open('num.txt')\n",
    "num = num.readlines()\n",
    "\n",
    "pre = open('pre.txt')\n",
    "pre = pre.readlines()\n",
    "\n",
    "sub = open('sub.txt')\n",
    "sub = sub.readlines()\n",
    "\n",
    "tag = open('tag.txt')\n",
    "tag = tag.readlines()\n",
    "\n",
    "ticker = open('ticker.txt')\n",
    "ticker = ticker.readlines()"
   ]
  },
  {
   "cell_type": "markdown",
   "metadata": {},
   "source": [
    "Get CID and ADSH"
   ]
  },
  {
   "cell_type": "markdown",
   "metadata": {},
   "source": [
    "Get the Revenue "
   ]
  },
  {
   "cell_type": "markdown",
   "metadata": {},
   "source": [
    "Match CID with ticker"
   ]
  },
  {
   "cell_type": "markdown",
   "metadata": {},
   "source": [
    "Create a function to do it with the other quartlery reports"
   ]
  },
  {
   "cell_type": "code",
   "execution_count": null,
   "metadata": {},
   "outputs": [],
   "source": [
    "\n",
    "\n",
    "cik_for_tckr = []\n",
    "\n",
    "for info in ticker[0:]:\n",
    "    find = info.split('\\t')\n",
    "    tckr = find[0]\n",
    "    cid = find[1]\n",
    "    if tckr == 'aapl':\n",
    "        cik_for_tckr.append(cid)\n",
    "\n",
    "import re\n",
    "clean_cik_for_tckr = []\n",
    "for info in cik_for_tckr:\n",
    "    clean_cik_for_tckr.append(info.replace(\"\\n\", \"\"))\n",
    "    \n",
    "clean_cik_for_tckr\n",
    "\n",
    "tckr_adsh = []\n",
    "\n",
    "for info in sub[1:]:\n",
    "    find = info.split('\\t')\n",
    "    sub_cik = find[1]\n",
    "    sub_adsh = find[0]\n",
    "    if sub_cik == clean_cik_for_tckr[0]:\n",
    "        tckr_adsh.append(sub_adsh)\n",
    "tckr_adsh\n",
    "\n",
    "import re\n",
    "cleaned_tckr_adsh = []\n",
    "\n",
    "for info in tckr_adsh:\n",
    "    cleaned_tckr_adsh.append(info.replace('-', ''))\n",
    "\n",
    "cleaned_tckr_adsh_float = []\n",
    "\n",
    "for info in cleaned_tckr_adsh:\n",
    "    info = float(info)\n",
    "    cleaned_tckr_adsh_float.append(info)\n",
    "\n",
    "total_revenue = {}\n",
    "\n",
    "for info in num[1:]:\n",
    "    find = info.split('\\t')\n",
    "    adsh = find[0]\n",
    "    tag = find[1]\n",
    "    value = find[7]\n",
    "    if tag == 'Revenue' and cleaned_tckr_adsh_float[0] > cleaned_tckr_adsh_float[1]:\n",
    "        total_revenue[cleaned_tckr_adsh_float[0]] = value\n",
    "    elif cleaned_tckr_adsh_float[1] > cleaned_tckr_adsh_float[0]:\n",
    "        total_revenue[cleaned_tckr_adsh_float[1]] = value\n",
    "\n",
    "\n",
    "#convert 'value' in total_revenue into a float()\n",
    " \n",
    "\n",
    "\n",
    "\n",
    "\n",
    "\n",
    "\n",
    "#total_revenue_test = {}\n",
    "\n",
    "#for info in num[1:]:\n",
    "    #find = info.split('\\t')\n",
    "    #adsh = find[0]\n",
    "    #tag = find[1]\n",
    "    #value = find[7]\n",
    "    #if tag == 'Revenue' and cleaned_tckr_adsh[0] > cleaned_tckr_adsh[1]:\n",
    "        #total_revenue_test[cleaned_tckr_adsh[0]] = value\n",
    "    #else:\n",
    "        #total_revenue[cleaned_tckr_adsh[1]] = value\n",
    "\n",
    "   \n",
    "    \n",
    "    #need a more flexible way to put the other adsh into the dictionary\n",
    "    \n",
    "    #elif tag == 'Revenue':\n",
    "        #total_revenue[tckr_adsh[0:]] = value\n",
    "        \n"
   ]
  },
  {
   "cell_type": "code",
   "execution_count": null,
   "metadata": {},
   "outputs": [],
   "source": [
    "\n"
   ]
  },
  {
   "cell_type": "code",
   "execution_count": null,
   "metadata": {},
   "outputs": [],
   "source": []
  },
  {
   "cell_type": "code",
   "execution_count": null,
   "metadata": {},
   "outputs": [],
   "source": []
  },
  {
   "cell_type": "markdown",
   "metadata": {},
   "source": [
    "Testing Area"
   ]
  },
  {
   "cell_type": "code",
   "execution_count": null,
   "metadata": {},
   "outputs": [
    {
     "data": {
      "text/plain": [
       "{32019322000059.0: '417824.0000'}"
      ]
     },
     "execution_count": 16,
     "metadata": {},
     "output_type": "execute_result"
    }
   ],
   "source": [
    "total_revenue"
   ]
  },
  {
   "cell_type": "code",
   "execution_count": null,
   "metadata": {},
   "outputs": [
    {
     "data": {
      "text/plain": [
       "['320193']"
      ]
     },
     "execution_count": 5,
     "metadata": {},
     "output_type": "execute_result"
    }
   ],
   "source": [
    "clean_cik_for_tckr"
   ]
  },
  {
   "cell_type": "code",
   "execution_count": null,
   "metadata": {},
   "outputs": [
    {
     "data": {
      "text/plain": [
       "[32019322000059.0, 32019322000058.0]"
      ]
     },
     "execution_count": 6,
     "metadata": {},
     "output_type": "execute_result"
    }
   ],
   "source": [
    "cleaned_tckr_adsh_float"
   ]
  },
  {
   "cell_type": "code",
   "execution_count": null,
   "metadata": {},
   "outputs": [
    {
     "data": {
      "text/plain": [
       "['0000320193-22-000059', '0000320193-22-000058']"
      ]
     },
     "execution_count": 7,
     "metadata": {},
     "output_type": "execute_result"
    }
   ],
   "source": [
    "tckr_adsh"
   ]
  },
  {
   "cell_type": "code",
   "execution_count": null,
   "metadata": {},
   "outputs": [
    {
     "data": {
      "text/plain": [
       "{32019322000059.0: '417824.0000'}"
      ]
     },
     "execution_count": 8,
     "metadata": {},
     "output_type": "execute_result"
    }
   ],
   "source": [
    "total_revenue"
   ]
  },
  {
   "cell_type": "code",
   "execution_count": null,
   "metadata": {},
   "outputs": [],
   "source": [
    "total_revenue_test = {}\n",
    "\n",
    "for info in num[1:]:\n",
    "    find = info.split('\\t')\n",
    "    adsh = find[0]\n",
    "    tag = find[1]\n",
    "    value = find[7]\n",
    "    if tag == 'Revenue' and cleaned_tckr_adsh[0] > cleaned_tckr_adsh[1]:\n",
    "        total_revenue_test[cleaned_tckr_adsh[0]] = value\n",
    "    else:\n",
    "        total_revenue_test[cleaned_tckr_adsh[1]] = value\n",
    "        \n",
    "        #total_revenue_test[cleaned_tckr_adsh_float[0]] = value\n",
    "        #total_revenue_test[cleaned_tckr_adsh_float[1]] = value\n",
    "        "
   ]
  },
  {
   "cell_type": "code",
   "execution_count": null,
   "metadata": {},
   "outputs": [
    {
     "data": {
      "text/plain": [
       "{'000032019322000058': '890430.0000', '000032019322000059': '417824.0000'}"
      ]
     },
     "execution_count": 10,
     "metadata": {},
     "output_type": "execute_result"
    }
   ],
   "source": [
    "total_revenue_test"
   ]
  },
  {
   "cell_type": "markdown",
   "metadata": {},
   "source": [
    "Get the needed data and concat into one dataframe"
   ]
  },
  {
   "cell_type": "code",
   "execution_count": null,
   "metadata": {},
   "outputs": [],
   "source": []
  }
 ],
 "metadata": {
  "kernelspec": {
   "display_name": "Python 3.10.2 64-bit",
   "language": "python",
   "name": "python3"
  },
  "language_info": {
   "codemirror_mode": {
    "name": "ipython",
    "version": 3
   },
   "file_extension": ".py",
   "mimetype": "text/x-python",
   "name": "python",
   "nbconvert_exporter": "python",
   "pygments_lexer": "ipython3",
   "version": "3.10.2"
  },
  "orig_nbformat": 4,
  "vscode": {
   "interpreter": {
    "hash": "7e1998ff7f8aa20ada591c520b972326324e5ea05489af9e422744c7c09f6dad"
   }
  }
 },
 "nbformat": 4,
 "nbformat_minor": 2
}
