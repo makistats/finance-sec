{
 "cells": [
  {
   "cell_type": "markdown",
   "metadata": {},
   "source": [
    "Create function in order to open the other years file.\n",
    "No need for constant input."
   ]
  },
  {
   "cell_type": "markdown",
   "metadata": {},
   "source": [
    "also .split('\\t')"
   ]
  },
  {
   "cell_type": "markdown",
   "metadata": {},
   "source": [
    "Need to clean the text as well. (import re)"
   ]
  },
  {
   "cell_type": "code",
   "execution_count": 2,
   "metadata": {},
   "outputs": [],
   "source": [
    "#def read_file_into_list(file_name):\n",
    "\n",
    "num = open('num.txt')\n",
    "num = num.readlines()\n",
    "\n",
    "pre = open('pre.txt')\n",
    "pre = pre.readlines()\n",
    "\n",
    "sub = open('sub.txt')\n",
    "sub = sub.readlines()\n",
    "\n",
    "tag = open('tag.txt')\n",
    "tag = tag.readlines()\n",
    "\n",
    "ticker = open('ticker.txt')\n",
    "ticker = ticker.readlines()"
   ]
  },
  {
   "cell_type": "markdown",
   "metadata": {},
   "source": [
    "Get CID and ADSH"
   ]
  },
  {
   "cell_type": "markdown",
   "metadata": {},
   "source": [
    "Get the Revenue "
   ]
  },
  {
   "cell_type": "markdown",
   "metadata": {},
   "source": [
    "Match CID with ticker"
   ]
  },
  {
   "cell_type": "markdown",
   "metadata": {},
   "source": [
    "Create a function to do it with the other quartlery reports"
   ]
  },
  {
   "cell_type": "code",
   "execution_count": 3,
   "metadata": {},
   "outputs": [],
   "source": [
    "\n",
    "\n",
    "cik_for_tckr = []\n",
    "\n",
    "for info in ticker[0:]:\n",
    "    find = info.split('\\t')\n",
    "    tckr = find[0]\n",
    "    cid = find[1]\n",
    "    if tckr == 'aapl':\n",
    "        cik_for_tckr.append(cid)\n",
    "\n",
    "import re\n",
    "clean_cik_for_tckr = []\n",
    "for info in cik_for_tckr:\n",
    "    clean_cik_for_tckr.append(info.replace(\"\\n\", \"\"))\n",
    "    \n",
    "clean_cik_for_tckr\n",
    "\n",
    "tckr_adsh = []\n",
    "\n",
    "for info in sub[1:]:\n",
    "    find = info.split('\\t')\n",
    "    sub_cik = find[1]\n",
    "    sub_adsh = find[0]\n",
    "    if sub_cik == clean_cik_for_tckr[0]:\n",
    "        tckr_adsh.append(sub_adsh)\n",
    "tckr_adsh\n",
    "\n",
    "import re\n",
    "cleaned_tckr_adsh = []\n",
    "\n",
    "for info in tckr_adsh:\n",
    "    cleaned_tckr_adsh.append(info.replace('-', ''))\n",
    "\n",
    "cleaned_tckr_adsh_float = []\n",
    "\n",
    "for info in cleaned_tckr_adsh:\n",
    "    info = float(info)\n",
    "    cleaned_tckr_adsh_float.append(info)\n",
    "\n",
    "total_revenue = {}\n",
    "\n",
    "for info in num[1:]:\n",
    "    find = info.split('\\t')\n",
    "    adsh = find[0]\n",
    "    tag = find[1]\n",
    "    value = find[7]\n",
    "    if tag == 'Revenue' and cleaned_tckr_adsh_float[0] > cleaned_tckr_adsh_float[1]:\n",
    "        total_revenue[cleaned_tckr_adsh_float[0]] = value\n",
    "    elif cleaned_tckr_adsh_float[1] > cleaned_tckr_adsh_float[0]:\n",
    "        total_revenue[cleaned_tckr_adsh_float[1]] = value\n",
    "\n",
    "\n",
    "#convert 'value' in total_revenue into a float()\n",
    " \n",
    "\n",
    "\n",
    "\n",
    "\n",
    "\n",
    "\n",
    "#total_revenue_test = {}\n",
    "\n",
    "#for info in num[1:]:\n",
    "    #find = info.split('\\t')\n",
    "    #adsh = find[0]\n",
    "    #tag = find[1]\n",
    "    #value = find[7]\n",
    "    #if tag == 'Revenue' and cleaned_tckr_adsh[0] > cleaned_tckr_adsh[1]:\n",
    "        #total_revenue_test[cleaned_tckr_adsh[0]] = value\n",
    "    #else:\n",
    "        #total_revenue[cleaned_tckr_adsh[1]] = value\n",
    "\n",
    "   \n",
    "    \n",
    "    #need a more flexible way to put the other adsh into the dictionary\n",
    "    \n",
    "    #elif tag == 'Revenue':\n",
    "        #total_revenue[tckr_adsh[0:]] = value\n",
    "        \n"
   ]
  },
  {
   "cell_type": "code",
   "execution_count": null,
   "metadata": {},
   "outputs": [],
   "source": [
    "\n"
   ]
  },
  {
   "cell_type": "code",
   "execution_count": 16,
   "metadata": {},
   "outputs": [
    {
     "data": {
      "text/plain": [
       "{32019322000059.0: '417824.0000'}"
      ]
     },
     "execution_count": 16,
     "metadata": {},
     "output_type": "execute_result"
    }
   ],
   "source": [
    "total_revenue"
   ]
  },
  {
   "cell_type": "code",
   "execution_count": 5,
   "metadata": {},
   "outputs": [
    {
     "data": {
      "text/plain": [
       "['320193']"
      ]
     },
     "execution_count": 5,
     "metadata": {},
     "output_type": "execute_result"
    }
   ],
   "source": [
    "clean_cik_for_tckr"
   ]
  },
  {
   "cell_type": "code",
   "execution_count": 6,
   "metadata": {},
   "outputs": [
    {
     "data": {
      "text/plain": [
       "[32019322000059.0, 32019322000058.0]"
      ]
     },
     "execution_count": 6,
     "metadata": {},
     "output_type": "execute_result"
    }
   ],
   "source": [
    "cleaned_tckr_adsh_float"
   ]
  },
  {
   "cell_type": "code",
   "execution_count": 7,
   "metadata": {},
   "outputs": [
    {
     "data": {
      "text/plain": [
       "['0000320193-22-000059', '0000320193-22-000058']"
      ]
     },
     "execution_count": 7,
     "metadata": {},
     "output_type": "execute_result"
    }
   ],
   "source": [
    "tckr_adsh"
   ]
  },
  {
   "cell_type": "code",
   "execution_count": 8,
   "metadata": {},
   "outputs": [
    {
     "data": {
      "text/plain": [
       "{32019322000059.0: '417824.0000'}"
      ]
     },
     "execution_count": 8,
     "metadata": {},
     "output_type": "execute_result"
    }
   ],
   "source": [
    "total_revenue"
   ]
  },
  {
   "cell_type": "code",
   "execution_count": 9,
   "metadata": {},
   "outputs": [],
   "source": [
    "total_revenue_test = {}\n",
    "\n",
    "for info in num[1:]:\n",
    "    find = info.split('\\t')\n",
    "    adsh = find[0]\n",
    "    tag = find[1]\n",
    "    value = find[7]\n",
    "    if tag == 'Revenue' and cleaned_tckr_adsh[0] > cleaned_tckr_adsh[1]:\n",
    "        total_revenue_test[cleaned_tckr_adsh[0]] = value\n",
    "    else:\n",
    "        total_revenue_test[cleaned_tckr_adsh[1]] = value\n",
    "        \n",
    "        #total_revenue_test[cleaned_tckr_adsh_float[0]] = value\n",
    "        #total_revenue_test[cleaned_tckr_adsh_float[1]] = value\n",
    "        "
   ]
  },
  {
   "cell_type": "code",
   "execution_count": 10,
   "metadata": {},
   "outputs": [
    {
     "data": {
      "text/plain": [
       "{'000032019322000058': '890430.0000', '000032019322000059': '417824.0000'}"
      ]
     },
     "execution_count": 10,
     "metadata": {},
     "output_type": "execute_result"
    }
   ],
   "source": [
    "total_revenue_test"
   ]
  },
  {
   "cell_type": "code",
   "execution_count": 11,
   "metadata": {},
   "outputs": [],
   "source": [
    "cik = []\n",
    "\n",
    "for info in sub[1:]:\n",
    "    find = info.split('\\t')\n",
    "    cik_ = find[1]\n",
    "    cik.append(cik_)\n",
    "cik\n",
    "\n",
    "adsh = []\n",
    "for info in num[1:]:\n",
    "    find = info.split('\\t')\n",
    "    adsh_ = find[0]\n",
    "    adsh.append(adsh_)\n",
    "adsh\n",
    "\n",
    "adsh_type = {}\n",
    "for info in num[1:]:\n",
    "    find = info.split('\\t')\n",
    "    type = find[1]\n",
    "    new_adsh = find[0]\n",
    "    if type == 'Revenue':\n",
    "        adsh_type[new_adsh] = type"
   ]
  },
  {
   "cell_type": "code",
   "execution_count": 12,
   "metadata": {},
   "outputs": [
    {
     "data": {
      "text/plain": [
       "{'0001755281-22-000017': 'Revenue',\n",
       " '0001755281-22-000024': 'Revenue',\n",
       " '0000891478-22-000055': 'Revenue',\n",
       " '0000950170-22-005353': 'Revenue',\n",
       " '0001104659-22-053835': 'Revenue',\n",
       " '0001104659-22-053955': 'Revenue',\n",
       " '0001104659-22-053956': 'Revenue',\n",
       " '0001104659-22-054556': 'Revenue',\n",
       " '0001104659-22-053548': 'Revenue',\n",
       " '0001104659-22-053557': 'Revenue',\n",
       " '0001104659-22-053233': 'Revenue',\n",
       " '0001104659-22-053278': 'Revenue',\n",
       " '0001104659-22-053197': 'Revenue',\n",
       " '0001104659-22-052477': 'Revenue',\n",
       " '0001104659-22-052405': 'Revenue',\n",
       " '0001104659-22-051183': 'Revenue',\n",
       " '0001104659-22-051053': 'Revenue',\n",
       " '0001104659-22-050319': 'Revenue',\n",
       " '0001104659-22-049929': 'Revenue',\n",
       " '0001104659-22-047891': 'Revenue',\n",
       " '0001104659-22-048063': 'Revenue',\n",
       " '0001104659-22-048663': 'Revenue',\n",
       " '0001104659-22-044221': 'Revenue',\n",
       " '0001104659-22-042831': 'Revenue',\n",
       " '0001104659-22-046078': 'Revenue',\n",
       " '0001104659-22-046077': 'Revenue',\n",
       " '0001104659-22-044335': 'Revenue',\n",
       " '0001104659-22-044646': 'Revenue',\n",
       " '0001062993-22-010220': 'Revenue',\n",
       " '0000950170-22-005635': 'Revenue',\n",
       " '0000950170-22-006790': 'Revenue',\n",
       " '0000950170-22-006788': 'Revenue',\n",
       " '0001062993-22-009912': 'Revenue',\n",
       " '0001062993-22-009348': 'Revenue',\n",
       " '0001193125-22-133020': 'Revenue',\n",
       " '0001193125-22-133658': 'Revenue',\n",
       " '0001193125-22-133726': 'Revenue',\n",
       " '0001193125-22-133568': 'Revenue',\n",
       " '0001193125-22-133730': 'Revenue',\n",
       " '0001193125-22-134002': 'Revenue',\n",
       " '0001193125-22-134381': 'Revenue',\n",
       " '0001193125-22-135555': 'Revenue',\n",
       " '0001193125-22-134788': 'Revenue',\n",
       " '0001193125-22-134781': 'Revenue',\n",
       " '0001193125-22-135270': 'Revenue',\n",
       " '0001193125-22-135202': 'Revenue',\n",
       " '0001193125-22-135327': 'Revenue',\n",
       " '0001193125-22-125360': 'Revenue',\n",
       " '0001193125-22-125284': 'Revenue',\n",
       " '0001193125-22-125532': 'Revenue',\n",
       " '0001193125-22-125445': 'Revenue',\n",
       " '0001193125-22-125601': 'Revenue',\n",
       " '0001193125-22-126714': 'Revenue',\n",
       " '0001193125-22-125634': 'Revenue',\n",
       " '0001193125-22-126644': 'Revenue',\n",
       " '0001193125-22-132015': 'Revenue',\n",
       " '0001193125-22-129241': 'Revenue',\n",
       " '0001193125-22-129996': 'Revenue',\n",
       " '0001193125-22-127942': 'Revenue',\n",
       " '0001193125-22-127927': 'Revenue',\n",
       " '0001193125-22-121490': 'Revenue',\n",
       " '0001193125-22-120379': 'Revenue',\n",
       " '0001193125-22-120210': 'Revenue',\n",
       " '0001193125-22-125154': 'Revenue',\n",
       " '0001193125-22-125213': 'Revenue',\n",
       " '0001193125-22-104891': 'Revenue',\n",
       " '0001193125-22-104872': 'Revenue',\n",
       " '0001193125-22-106876': 'Revenue',\n",
       " '0001193125-22-107323': 'Revenue',\n",
       " '0001193125-22-111494': 'Revenue',\n",
       " '0001193125-22-111273': 'Revenue',\n",
       " '0001193125-22-110129': 'Revenue',\n",
       " '0001193125-22-111088': 'Revenue',\n",
       " '0001193125-22-114040': 'Revenue',\n",
       " '0001193125-22-113074': 'Revenue',\n",
       " '0001193125-22-113055': 'Revenue',\n",
       " '0001178913-22-001759': 'Revenue',\n",
       " '0001193125-22-093725': 'Revenue',\n",
       " '0001193125-22-094968': 'Revenue',\n",
       " '0001193125-22-097547': 'Revenue',\n",
       " '0001193125-22-097618': 'Revenue',\n",
       " '0001193125-22-096315': 'Revenue',\n",
       " '0001193125-22-100614': 'Revenue',\n",
       " '0001193125-22-099611': 'Revenue',\n",
       " '0001178913-22-001377': 'Revenue',\n",
       " '0001178913-22-001515': 'Revenue',\n",
       " '0001171843-22-002652': 'Revenue',\n",
       " '0001171843-22-002579': 'Revenue',\n",
       " '0001171843-22-002539': 'Revenue',\n",
       " '0001171843-22-002455': 'Revenue',\n",
       " '0001171843-22-002774': 'Revenue',\n",
       " '0001104659-22-054849': 'Revenue',\n",
       " '0001104659-22-054777': 'Revenue',\n",
       " '0001104659-22-055711': 'Revenue',\n",
       " '0001104659-22-054656': 'Revenue',\n",
       " '0001140361-22-016877': 'Revenue',\n",
       " '0001140361-22-015994': 'Revenue',\n",
       " '0001140361-22-015996': 'Revenue',\n",
       " '0001140361-22-017650': 'Revenue',\n",
       " '0001171843-22-003035': 'Revenue',\n",
       " '0001292814-22-001848': 'Revenue',\n",
       " '0001292814-22-001862': 'Revenue',\n",
       " '0001292814-22-001951': 'Revenue',\n",
       " '0001292814-22-001393': 'Revenue',\n",
       " '0001292814-22-001705': 'Revenue',\n",
       " '0001292814-22-001955': 'Revenue',\n",
       " '0001292814-22-002002': 'Revenue',\n",
       " '0001292814-22-002011': 'Revenue',\n",
       " '0001292814-22-001850': 'Revenue',\n",
       " '0001410578-22-001007': 'Revenue',\n",
       " '0001292814-22-001631': 'Revenue',\n",
       " '0001410578-22-001105': 'Revenue',\n",
       " '0001410578-22-001109': 'Revenue',\n",
       " '0001410578-22-001114': 'Revenue',\n",
       " '0001437749-22-009745': 'Revenue',\n",
       " '0001410578-22-000831': 'Revenue',\n",
       " '0001410578-22-000806': 'Revenue',\n",
       " '0001213900-22-024284': 'Revenue',\n",
       " '0001213900-22-023291': 'Revenue',\n",
       " '0001213900-22-023077': 'Revenue',\n",
       " '0001214659-22-005798': 'Revenue',\n",
       " '0001213900-22-017170': 'Revenue',\n",
       " '0001213900-22-017213': 'Revenue',\n",
       " '0001213900-22-017034': 'Revenue',\n",
       " '0001213900-22-019292': 'Revenue',\n",
       " '0001213900-22-022705': 'Revenue',\n",
       " '0001213900-22-022458': 'Revenue',\n",
       " '0001213900-22-021394': 'Revenue',\n",
       " '0001213900-22-022282': 'Revenue',\n",
       " '0001213900-22-022308': 'Revenue',\n",
       " '0001062993-22-013122': 'Revenue',\n",
       " '0001062993-22-014340': 'Revenue',\n",
       " '0001062993-22-014914': 'Revenue',\n",
       " '0001062993-22-012929': 'Revenue',\n",
       " '0001062993-22-012661': 'Revenue',\n",
       " '0001004315-22-000057': 'Revenue',\n",
       " '0001104659-22-057076': 'Revenue',\n",
       " '0001104659-22-065686': 'Revenue',\n",
       " '0001104659-22-065932': 'Revenue',\n",
       " '0001104659-22-060511': 'Revenue',\n",
       " '0000950170-22-010898': 'Revenue',\n",
       " '0001757064-22-000003': 'Revenue',\n",
       " '0001654954-22-005521': 'Revenue',\n",
       " '0001786909-22-000026': 'Revenue',\n",
       " '0001782999-22-000004': 'Revenue',\n",
       " '0001628280-22-011147': 'Revenue',\n",
       " '0001628280-22-011076': 'Revenue',\n",
       " '0001628280-22-010069': 'Revenue',\n",
       " '0001628280-22-011586': 'Revenue',\n",
       " '0001628280-22-011577': 'Revenue',\n",
       " '0001634621-22-000007': 'Revenue',\n",
       " '0001668438-22-000027': 'Revenue',\n",
       " '0001829126-22-009210': 'Revenue',\n",
       " '0001564590-22-014521': 'Revenue',\n",
       " '0001564590-22-015156': 'Revenue',\n",
       " '0001564590-22-016587': 'Revenue',\n",
       " '0001564590-22-016195': 'Revenue',\n",
       " '0001575872-22-000320': 'Revenue',\n",
       " '0001575872-22-000347': 'Revenue',\n",
       " '0001575872-22-000349': 'Revenue',\n",
       " '0001628280-22-009080': 'Revenue',\n",
       " '0001628280-22-008868': 'Revenue',\n",
       " '0001564590-22-013696': 'Revenue',\n",
       " '0001564590-22-013633': 'Revenue',\n",
       " '0001628280-22-008842': 'Revenue',\n",
       " '0001624422-22-000014': 'Revenue',\n",
       " '0001628280-22-008534': 'Revenue',\n",
       " '0001628280-22-008197': 'Revenue',\n",
       " '0001604481-22-000006': 'Revenue',\n",
       " '0001493152-22-008934': 'Revenue',\n",
       " '0001493152-22-008781': 'Revenue',\n",
       " '0001493152-22-009932': 'Revenue',\n",
       " '0001468091-22-000044': 'Revenue',\n",
       " '0001493152-22-009418': 'Revenue',\n",
       " '0001477932-22-002731': 'Revenue',\n",
       " '0001554855-22-000267': 'Revenue',\n",
       " '0001554855-22-000205': 'Revenue',\n",
       " '0001558370-22-005673': 'Revenue',\n",
       " '0001539497-22-000804': 'Revenue',\n",
       " '0001558370-22-006506': 'Revenue',\n",
       " '0001558370-22-006510': 'Revenue',\n",
       " '0001558370-22-006443': 'Revenue',\n",
       " '0001554855-22-000227': 'Revenue',\n",
       " '0001558370-22-006349': 'Revenue',\n",
       " '0001558370-22-006151': 'Revenue',\n",
       " '0001493152-22-011802': 'Revenue',\n",
       " '0001493152-22-010761': 'Revenue',\n",
       " '0001493152-22-011405': 'Revenue',\n",
       " '0001493152-22-011268': 'Revenue',\n",
       " '0001213900-22-024918': 'Revenue',\n",
       " '0001213900-22-026185': 'Revenue',\n",
       " '0001213900-22-025884': 'Revenue',\n",
       " '0001213900-22-027149': 'Revenue',\n",
       " '0001213900-22-026961': 'Revenue',\n",
       " '0001213900-22-031846': 'Revenue',\n",
       " '0001213900-22-032010': 'Revenue',\n",
       " '0001213900-22-027668': 'Revenue',\n",
       " '0001213900-22-027975': 'Revenue',\n",
       " '0001213900-22-028312': 'Revenue',\n",
       " '0001292814-22-002344': 'Revenue',\n",
       " '0001292814-22-002374': 'Revenue',\n",
       " '0001292814-22-002320': 'Revenue',\n",
       " '0001193125-22-150298': 'Revenue',\n",
       " '0001193125-22-151800': 'Revenue',\n",
       " '0001193125-22-155175': 'Revenue',\n",
       " '0001193125-22-155327': 'Revenue',\n",
       " '0001193125-22-155587': 'Revenue',\n",
       " '0001193125-22-155596': 'Revenue',\n",
       " '0001193125-22-147504': 'Revenue',\n",
       " '0001193125-22-147494': 'Revenue',\n",
       " '0001193125-22-149498': 'Revenue',\n",
       " '0001193125-22-170560': 'Revenue',\n",
       " '0001193125-22-161251': 'Revenue',\n",
       " '0001193125-22-164980': 'Revenue',\n",
       " '0001193125-22-169523': 'Revenue',\n",
       " '0001193125-22-169256': 'Revenue',\n",
       " '0001193125-22-159079': 'Revenue',\n",
       " '0001193125-22-160481': 'Revenue',\n",
       " '0001193125-22-159819': 'Revenue',\n",
       " '0001193125-22-160229': 'Revenue',\n",
       " '0001193125-22-160285': 'Revenue',\n",
       " '0001193125-22-179197': 'Revenue',\n",
       " '0001193125-22-183263': 'Revenue',\n",
       " '0001193125-22-175584': 'Revenue',\n",
       " '0001193125-22-174621': 'Revenue',\n",
       " '0001193125-22-178101': 'Revenue',\n",
       " '0001193125-22-176453': 'Revenue',\n",
       " '0001193125-22-184336': 'Revenue',\n",
       " '0001193125-22-186175': 'Revenue',\n",
       " '0001104659-22-071040': 'Revenue',\n",
       " '0001104659-22-066097': 'Revenue',\n",
       " '0001104659-22-071759': 'Revenue',\n",
       " '0001104659-22-070649': 'Revenue',\n",
       " '0001104659-22-068708': 'Revenue',\n",
       " '0001104659-22-075940': 'Revenue',\n",
       " '0001140361-22-018206': 'Revenue',\n",
       " '0001176256-22-000187': 'Revenue',\n",
       " '0001173382-22-000017': 'Revenue',\n",
       " '0001171843-22-003779': 'Revenue',\n",
       " '0001395064-22-000107': 'Revenue',\n",
       " '0001410578-22-001367': 'Revenue',\n",
       " '0001410578-22-001458': 'Revenue',\n",
       " '0001437749-22-013979': 'Revenue',\n",
       " '0001477932-22-003243': 'Revenue',\n",
       " '0001437749-22-016090': 'Revenue',\n",
       " '0001477932-22-003099': 'Revenue',\n",
       " '0001493152-22-012713': 'Revenue',\n",
       " '0001493152-22-012742': 'Revenue',\n",
       " '0001493152-22-013663': 'Revenue',\n",
       " '0001493152-22-013312': 'Revenue',\n",
       " '0001493152-22-015412': 'Revenue',\n",
       " '0001493152-22-017417': 'Revenue',\n",
       " '0001564590-22-024528': 'Revenue',\n",
       " '0001564590-22-022352': 'Revenue',\n",
       " '0001575872-22-000522': 'Revenue',\n",
       " '0001575872-22-000576': 'Revenue',\n",
       " '0001628280-22-017012': 'Revenue',\n",
       " '0001640334-22-000990': 'Revenue',\n",
       " '0001651717-22-000020': 'Revenue',\n",
       " '0001554855-22-000330': 'Revenue',\n",
       " '0001554855-22-000306': 'Revenue',\n",
       " '0001553350-22-000485': 'Revenue',\n",
       " '0001558370-22-007406': 'Revenue',\n",
       " '0001558370-22-008861': 'Revenue',\n",
       " '0001755281-22-000036': 'Revenue',\n",
       " '0001829126-22-010830': 'Revenue',\n",
       " '0001829126-22-013193': 'Revenue',\n",
       " '0001709048-22-000021': 'Revenue',\n",
       " '0001690511-22-000011': 'Revenue',\n",
       " '0001734520-22-000025': 'Revenue',\n",
       " '0001213900-22-018365': 'Revenue',\n",
       " '0001628280-22-008651': 'Revenue',\n",
       " '0001213900-22-019010': 'Revenue',\n",
       " '0001213900-22-020133': 'Revenue',\n",
       " '0001213900-22-019978': 'Revenue',\n",
       " '0001477932-22-002455': 'Revenue',\n",
       " '0001213900-22-022784': 'Revenue',\n",
       " '0001213900-22-022922': 'Revenue',\n",
       " '0001213900-22-023159': 'Revenue',\n",
       " '0001829126-22-010048': 'Revenue',\n",
       " '0001829126-22-010301': 'Revenue',\n",
       " '0001096906-22-001073': 'Revenue',\n",
       " '0001654954-22-006610': 'Revenue',\n",
       " '0001477932-22-003360': 'Revenue',\n",
       " '0001213900-22-027053': 'Revenue',\n",
       " '0001213900-22-027107': 'Revenue',\n",
       " '0001213900-22-027215': 'Revenue',\n",
       " '0001213900-22-027575': 'Revenue',\n",
       " '0001213900-22-028757': 'Revenue',\n",
       " '0001213900-22-029038': 'Revenue',\n",
       " '0001477932-22-004096': 'Revenue',\n",
       " '0001477932-22-004099': 'Revenue',\n",
       " '0001213900-22-032544': 'Revenue',\n",
       " '0001213900-22-032793': 'Revenue',\n",
       " '0001731122-22-001099': 'Revenue',\n",
       " '0001213900-22-035132': 'Revenue',\n",
       " '0001213900-22-035656': 'Revenue',\n",
       " '0001213900-22-036349': 'Revenue'}"
      ]
     },
     "execution_count": 12,
     "metadata": {},
     "output_type": "execute_result"
    }
   ],
   "source": [
    "adsh_type"
   ]
  },
  {
   "cell_type": "markdown",
   "metadata": {},
   "source": [
    "Get the needed data and concat into one dataframe"
   ]
  },
  {
   "cell_type": "code",
   "execution_count": 13,
   "metadata": {},
   "outputs": [],
   "source": [
    "new_index = range(len(adsh_type))"
   ]
  },
  {
   "cell_type": "code",
   "execution_count": 14,
   "metadata": {},
   "outputs": [
    {
     "data": {
      "text/plain": [
       "range(0, 298)"
      ]
     },
     "execution_count": 14,
     "metadata": {},
     "output_type": "execute_result"
    }
   ],
   "source": [
    "new_index"
   ]
  },
  {
   "cell_type": "code",
   "execution_count": 15,
   "metadata": {},
   "outputs": [],
   "source": [
    "import pandas as pd\n",
    "\n",
    "adsh_dataframe = pd.DataFrame(adsh)\n",
    "\n",
    "cik_dataframe = pd.DataFrame(cik)\n",
    "#create dataframe for type and adsh\n",
    "\n"
   ]
  },
  {
   "cell_type": "code",
   "execution_count": 1,
   "metadata": {},
   "outputs": [
    {
     "name": "stdout",
     "output_type": "stream",
     "text": [
      "Hello"
     ]
    }
   ],
   "source": [
    "print('Hello', end='')\n"
   ]
  },
  {
   "cell_type": "code",
   "execution_count": null,
   "metadata": {},
   "outputs": [],
   "source": []
  }
 ],
 "metadata": {
  "kernelspec": {
   "display_name": "Python 3.10.2 64-bit",
   "language": "python",
   "name": "python3"
  },
  "language_info": {
   "codemirror_mode": {
    "name": "ipython",
    "version": 3
   },
   "file_extension": ".py",
   "mimetype": "text/x-python",
   "name": "python",
   "nbconvert_exporter": "python",
   "pygments_lexer": "ipython3",
   "version": "3.10.2"
  },
  "orig_nbformat": 4,
  "vscode": {
   "interpreter": {
    "hash": "7e1998ff7f8aa20ada591c520b972326324e5ea05489af9e422744c7c09f6dad"
   }
  }
 },
 "nbformat": 4,
 "nbformat_minor": 2
}
